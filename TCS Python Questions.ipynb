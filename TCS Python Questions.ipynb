{
 "cells": [
  {
   "cell_type": "code",
   "execution_count": 2,
   "metadata": {
    "ExecuteTime": {
     "end_time": "2019-12-21T17:13:32.386444Z",
     "start_time": "2019-12-21T17:13:32.379585Z"
    }
   },
   "outputs": [
    {
     "name": "stdout",
     "output_type": "stream",
     "text": [
      "200 100\n"
     ]
    }
   ],
   "source": [
    "#Swapping variables in python?\n",
    "#A = 100\n",
    "#B = 200\n",
    "#How to swap?\n",
    "\n",
    "def sp(a,b):\n",
    "    c = a\n",
    "    a = b\n",
    "    b = c\n",
    "    print(a,b)\n",
    "\n",
    "sp(100,200)\n",
    "    "
   ]
  },
  {
   "cell_type": "code",
   "execution_count": 9,
   "metadata": {},
   "outputs": [
    {
     "name": "stdout",
     "output_type": "stream",
     "text": [
      "o\n",
      "l\n",
      "l\n",
      "e\n",
      "H\n"
     ]
    }
   ],
   "source": [
    "#Reversing String?\n",
    "#Name = “Hello”\n",
    "#How to reverse?\n",
    "\n",
    "def rv(a):\n",
    "    for i in range(1,len(a)+1):\n",
    "        print(a[-i])\n",
    "\n",
    "rv(\"Hello\")"
   ]
  },
  {
   "cell_type": "code",
   "execution_count": 7,
   "metadata": {
    "ExecuteTime": {
     "end_time": "2019-12-28T04:19:58.359366Z",
     "start_time": "2019-12-28T04:19:58.353508Z"
    }
   },
   "outputs": [
    {
     "name": "stdout",
     "output_type": "stream",
     "text": [
      "[(1, 5), (2, 6), (3, 7), (4, 8)]\n"
     ]
    }
   ],
   "source": [
    "#Pick one from each list, and combine them in new list.\n",
    "#Input lists:\n",
    "L1 = [1,2,3,4]\n",
    "L2 = [5,6,7,8]\n",
    "print(list(zip(L1,L2)))\n",
    "#def com(L1,L2):\n",
    "#    a = [0 for i in range(len(L1))]\n",
    "#    for i in range(0,len(L1)):\n",
    " #       a[i] = [L1[i],L2[i]]\n",
    "  #  print(a)\n",
    "\n",
    "#com([1,2,3,4],[5,6,7,8])"
   ]
  },
  {
   "cell_type": "code",
   "execution_count": 30,
   "metadata": {},
   "outputs": [
    {
     "name": "stdout",
     "output_type": "stream",
     "text": [
      "1.479019945774904\n"
     ]
    }
   ],
   "source": [
    "#Calculate area of triangle?\n",
    "#s = (a+b+c)/2\n",
    "#area = √(s(s-a)*(s-b)*(s-c))\n",
    "\n",
    "def area(a,b,c):\n",
    "    s = (a+b+c)/2\n",
    "    res = (s*(s-a)*(s-b)*(s-c))**(1/2)\n",
    "    print(res)\n",
    "\n",
    "area(3,3,1)"
   ]
  },
  {
   "cell_type": "code",
   "execution_count": 9,
   "metadata": {},
   "outputs": [
    {
     "name": "stdout",
     "output_type": "stream",
     "text": [
      "b = 40  is largest\n"
     ]
    }
   ],
   "source": [
    "#Python Program to Find the Largest Among Three Numbers\n",
    "\n",
    "def large(a, b, c):\n",
    "    if (a > b) & (a > c):\n",
    "        print(\"a =\",a, \" is largest\")\n",
    "    elif (b > a) & (b > c):\n",
    "        print(\"b =\",b, \" is largest\")\n",
    "    else:\n",
    "        print(\"c =\",c, \"is largest\")\n",
    "        \n",
    "large(1,40,3)"
   ]
  },
  {
   "cell_type": "code",
   "execution_count": 24,
   "metadata": {},
   "outputs": [
    {
     "data": {
      "text/plain": [
       "2"
      ]
     },
     "execution_count": 24,
     "metadata": {},
     "output_type": "execute_result"
    }
   ],
   "source": [
    "#Python Program to Find the Factorial of a Number\n",
    "#a * (a-1) * (a-2) * ……… * 3 * 2 * 1\n",
    "\n",
    "def fact(x):\n",
    "    fac = 1\n",
    "    for i in range(0,x):\n",
    "        fac = fac * x\n",
    "        x = x - 1\n",
    "    return(fac)\n",
    "    \n",
    "fact(2)"
   ]
  },
  {
   "cell_type": "code",
   "execution_count": 26,
   "metadata": {},
   "outputs": [
    {
     "data": {
      "text/plain": [
       "15"
      ]
     },
     "execution_count": 26,
     "metadata": {},
     "output_type": "execute_result"
    }
   ],
   "source": [
    "#Python Program to Find the Sum of Natural Numbers\n",
    "#a + (a-1) + (a-2) + ……… + 3 + 2 + 1\n",
    "\n",
    "def natural(x):\n",
    "    add = 0\n",
    "    for i in range(x+1):\n",
    "        add = add + i\n",
    "    return add\n",
    "\n",
    "natural(5)"
   ]
  },
  {
   "cell_type": "code",
   "execution_count": 41,
   "metadata": {},
   "outputs": [
    {
     "data": {
      "text/plain": [
       "(3, 4)"
      ]
     },
     "execution_count": 41,
     "metadata": {},
     "output_type": "execute_result"
    }
   ],
   "source": [
    "#How to iterate through a list. Want the position and value?\n",
    "#Given_list = [9,8,7,6,5,4,3]\n",
    "\n",
    "def move(x,n):\n",
    "    pos = 0\n",
    "    value = 0\n",
    "    if x not in n:\n",
    "        print(\"try again\")\n",
    "    else:\n",
    "        for i in range(0,len(n)):\n",
    "            if x == n[i]:\n",
    "                pos = i\n",
    "                value = n[i]\n",
    "    return(pos,value)\n",
    "\n",
    "move(4,[1,2,3,4])"
   ]
  },
  {
   "cell_type": "code",
   "execution_count": 49,
   "metadata": {},
   "outputs": [
    {
     "data": {
      "text/plain": [
       "'is given string this'"
      ]
     },
     "execution_count": 49,
     "metadata": {},
     "output_type": "execute_result"
    }
   ],
   "source": [
    "#Rotation of a string?\n",
    "#Input_str = “this is given string”\n",
    "#This function should return “is given string this ”\n",
    "\n",
    "s = \"this is given string\"\n",
    "l = s.split()\n",
    "l1 = l[1:4]+l[0:1]\n",
    "' '.join(l1)\n",
    "    "
   ]
  },
  {
   "cell_type": "code",
   "execution_count": 43,
   "metadata": {},
   "outputs": [
    {
     "data": {
      "text/plain": [
       "False"
      ]
     },
     "execution_count": 43,
     "metadata": {},
     "output_type": "execute_result"
    }
   ],
   "source": [
    "#Find given number is prime?\n",
    "\n",
    "def isPrime(n): \n",
    "      \n",
    "    if (n <= 1): \n",
    "        return False\n",
    "  \n",
    "    for i in range(2, n): \n",
    "        if (n % i == 0): \n",
    "            return False\n",
    "  \n",
    "    return True\n",
    "\n",
    "isPrime(4)"
   ]
  },
  {
   "cell_type": "code",
   "execution_count": 48,
   "metadata": {},
   "outputs": [
    {
     "name": "stdout",
     "output_type": "stream",
     "text": [
      "enter number of digits you want in series (minimum 2): 5\n",
      "\n",
      "fibonacci series is:\n",
      "0 , 1, 1, 2, 3, "
     ]
    }
   ],
   "source": [
    "#Writing fibonacci series\n",
    "\n",
    "num = int(input(\"enter number of digits you want in series (minimum 2): \"))\n",
    " \n",
    "first = 0\n",
    "second = 1\n",
    " \n",
    "print(\"\\nfibonacci series is:\")\n",
    "print(first, \",\", second, end=\", \")\n",
    " \n",
    "for i in range(2, num):\n",
    "    next = first + second\n",
    "    print(next, end=\", \")\n",
    " \n",
    "    first = second\n",
    "    second = next"
   ]
  },
  {
   "cell_type": "code",
   "execution_count": null,
   "metadata": {},
   "outputs": [],
   "source": [
    "#Writing own range function using generators"
   ]
  },
  {
   "cell_type": "code",
   "execution_count": 54,
   "metadata": {},
   "outputs": [
    {
     "data": {
      "text/plain": [
       "True"
      ]
     },
     "execution_count": 54,
     "metadata": {},
     "output_type": "execute_result"
    }
   ],
   "source": [
    "#Python program to check if a string is palindrome or not\n",
    "\n",
    "def reverse(s): \n",
    "    return s[::-1] \n",
    "  \n",
    "def isPalindrome(s): \n",
    "    # Calling reverse function \n",
    "    rev = reverse(s) \n",
    "  \n",
    "    # Checking if both string are equal or not \n",
    "    if (s == rev): \n",
    "        return True\n",
    "    return False\n",
    "\n",
    "isPalindrome(\"OppO\")"
   ]
  },
  {
   "cell_type": "code",
   "execution_count": 57,
   "metadata": {},
   "outputs": [
    {
     "data": {
      "text/plain": [
       "15.207280000000003"
      ]
     },
     "execution_count": 57,
     "metadata": {},
     "output_type": "execute_result"
    }
   ],
   "source": [
    "#Python Program for Program to find area of a circle\n",
    "#Area = pi * r2\n",
    "#where r is radius of circle\n",
    "#PI = 3.142\n",
    "\n",
    "def circle(r):\n",
    "    pi = 3.142\n",
    "    area = pi * r**2\n",
    "    return area\n",
    "\n",
    "circle(2.2)"
   ]
  },
  {
   "cell_type": "code",
   "execution_count": 2,
   "metadata": {},
   "outputs": [
    {
     "data": {
      "text/plain": [
       "14"
      ]
     },
     "execution_count": 2,
     "metadata": {},
     "output_type": "execute_result"
    }
   ],
   "source": [
    "#Python Program for Sum of squares of first n natural numbers\n",
    "\n",
    "def sum_sq(n):\n",
    "    add = 0\n",
    "    for i in range(n+1):\n",
    "        add = add + i**2\n",
    "    return add\n",
    "\n",
    "sum_sq(3)"
   ]
  },
  {
   "cell_type": "code",
   "execution_count": 8,
   "metadata": {},
   "outputs": [
    {
     "name": "stdout",
     "output_type": "stream",
     "text": [
      "2\n",
      "3\n"
     ]
    }
   ],
   "source": [
    "#Python program to print all Prime numbers in an Interval\n",
    "\n",
    "\n",
    "def all_prime(start,end):\n",
    "    \n",
    "    for val in range(start, end + 1): \n",
    "\n",
    "# If num is divisible by any number \n",
    "# between 2 and val, it is not prime \n",
    "        if val > 1: \n",
    "            for n in range(2, val): \n",
    "                if (val % n) == 0: \n",
    "                    break\n",
    "            else: \n",
    "                print(val) \n",
    "\n",
    "all_prime(2,4)"
   ]
  },
  {
   "cell_type": "code",
   "execution_count": 9,
   "metadata": {},
   "outputs": [
    {
     "data": {
      "text/plain": [
       "[1, 3, 2, 4]"
      ]
     },
     "execution_count": 9,
     "metadata": {},
     "output_type": "execute_result"
    }
   ],
   "source": [
    "#Python program to swap two elements in a list\n",
    "\n",
    "def swapPositions(list, pos1, pos2): \n",
    "      \n",
    "    list[pos1], list[pos2] = list[pos2], list[pos1] \n",
    "    return list\n",
    "\n",
    "swapPositions([1,2,3,4],1,2)"
   ]
  },
  {
   "cell_type": "code",
   "execution_count": 28,
   "metadata": {},
   "outputs": [
    {
     "data": {
      "text/plain": [
       "[4, 3, 2, 1]"
      ]
     },
     "execution_count": 28,
     "metadata": {},
     "output_type": "execute_result"
    }
   ],
   "source": [
    "#Python | Reversing a List\n",
    "#Input : list =  [4, 5, 6, 7, 8, 9]\n",
    "#Output : [9, 8, 7, 6, 5, 4]\n",
    "\n",
    "def rev(L):\n",
    "    res = [0 for x in range(len(L))]\n",
    "    for i in range(0,len(L)):\n",
    "        res[i] = L[-i-1]\n",
    "    return res\n",
    "\n",
    "rev([1,2,3,4])"
   ]
  },
  {
   "cell_type": "code",
   "execution_count": 1,
   "metadata": {},
   "outputs": [
    {
     "data": {
      "text/plain": [
       "[5, 6, 7, 8]"
      ]
     },
     "execution_count": 1,
     "metadata": {},
     "output_type": "execute_result"
    }
   ],
   "source": [
    "#Python | Cloning or Copying a list\n",
    "\n",
    "def Cloning1(li1): \n",
    "    li_copy = li1[:] \n",
    "    return li_copy \n",
    "\n",
    "Cloning1([1,2,3,4])\n",
    "\n",
    "\n",
    "################\n",
    "\n",
    "def Cloning2(li1): \n",
    "    li_copy = [i for i in li1] \n",
    "    return li_copy\n",
    "\n",
    "Cloning2([5,6,7,8])"
   ]
  },
  {
   "cell_type": "code",
   "execution_count": 39,
   "metadata": {
    "ExecuteTime": {
     "end_time": "2019-12-27T16:15:31.899068Z",
     "start_time": "2019-12-27T16:15:31.893192Z"
    }
   },
   "outputs": [
    {
     "name": "stdout",
     "output_type": "stream",
     "text": [
      "code python sample Tezpur - Institute Statistical Indian "
     ]
    }
   ],
   "source": [
    "#Reverse words in a given String in Python\n",
    "#Input : str = \"Indian Statistical Institute - Tezpur sample python code\"\n",
    "#Output : str = \"code python sample Tezpur - Institute Statistical Indian\"\n",
    "\n",
    "def rev_str(st):\n",
    "    for i in st.split()[ ::-1]:\n",
    "        print (i, end=\" \")\n",
    "\n",
    "rev_str(\"Indian Statistical Institute - Tezpur sample python code\")"
   ]
  },
  {
   "cell_type": "code",
   "execution_count": null,
   "metadata": {},
   "outputs": [],
   "source": [
    "l = s.split()\n",
    "l1 = l[1:4]+l[0:1]\n",
    "' '.join(l1)"
   ]
  },
  {
   "cell_type": "code",
   "execution_count": 51,
   "metadata": {},
   "outputs": [
    {
     "data": {
      "text/plain": [
       "2"
      ]
     },
     "execution_count": 51,
     "metadata": {},
     "output_type": "execute_result"
    }
   ],
   "source": [
    "s = \"This is\"\n",
    "len(s.split())"
   ]
  },
  {
   "cell_type": "code",
   "execution_count": null,
   "metadata": {},
   "outputs": [],
   "source": []
  },
  {
   "cell_type": "code",
   "execution_count": null,
   "metadata": {},
   "outputs": [],
   "source": [
    "#OOP Object Oriented Programming"
   ]
  },
  {
   "cell_type": "code",
   "execution_count": 56,
   "metadata": {},
   "outputs": [
    {
     "name": "stdout",
     "output_type": "stream",
     "text": [
      "Bishal - Saha\n"
     ]
    }
   ],
   "source": [
    "class person():\n",
    "    pass\n",
    "p1 = person()\n",
    "p1.fname = \"Bishal\"\n",
    "p1.lname = \"Saha\"\n",
    "print(p1.fname,'-',p1.lname)"
   ]
  },
  {
   "cell_type": "code",
   "execution_count": 50,
   "metadata": {},
   "outputs": [
    {
     "name": "stdout",
     "output_type": "stream",
     "text": [
      "Bishal  Saha\n"
     ]
    }
   ],
   "source": [
    "class person:\n",
    "    def __init__(self,fname,lname):\n",
    "        self.fname = fname\n",
    "        self.lname = lname\n",
    "p1 = person('Bishal','Saha')\n",
    "print(p1.fname,'',p1.lname)\n",
    "    "
   ]
  },
  {
   "cell_type": "code",
   "execution_count": 41,
   "metadata": {
    "ExecuteTime": {
     "end_time": "2019-12-27T18:36:17.601221Z",
     "start_time": "2019-12-27T18:36:17.595345Z"
    }
   },
   "outputs": [],
   "source": [
    "#Documentation\n",
    "\n",
    "class person:\n",
    "    'Represents a function'\n",
    "    def __init__(self,fname,lname):\n",
    "        'Initialises two attributes of a person'\n",
    "        self.fname = fname\n",
    "        self.lname = lname"
   ]
  },
  {
   "cell_type": "code",
   "execution_count": 42,
   "metadata": {
    "ExecuteTime": {
     "end_time": "2019-12-27T18:36:18.572605Z",
     "start_time": "2019-12-27T18:36:18.562812Z"
    }
   },
   "outputs": [
    {
     "ename": "TypeError",
     "evalue": "__init__() missing 2 required positional arguments: 'fname' and 'lname'",
     "output_type": "error",
     "traceback": [
      "\u001b[1;31m---------------------------------------------------------------------------\u001b[0m",
      "\u001b[1;31mTypeError\u001b[0m                                 Traceback (most recent call last)",
      "\u001b[1;32m<ipython-input-42-ab4129258093>\u001b[0m in \u001b[0;36m<module>\u001b[1;34m\u001b[0m\n\u001b[0;32m      3\u001b[0m \u001b[1;32mclass\u001b[0m \u001b[0mChild\u001b[0m\u001b[1;33m(\u001b[0m\u001b[0mperson\u001b[0m\u001b[1;33m)\u001b[0m\u001b[1;33m:\u001b[0m\u001b[1;33m\u001b[0m\u001b[1;33m\u001b[0m\u001b[0m\n\u001b[0;32m      4\u001b[0m     \u001b[1;32mpass\u001b[0m\u001b[1;33m\u001b[0m\u001b[1;33m\u001b[0m\u001b[0m\n\u001b[1;32m----> 5\u001b[1;33m \u001b[0ml1\u001b[0m \u001b[1;33m=\u001b[0m \u001b[0mChild\u001b[0m\u001b[1;33m(\u001b[0m\u001b[1;33m)\u001b[0m\u001b[1;33m\u001b[0m\u001b[1;33m\u001b[0m\u001b[0m\n\u001b[0m\u001b[0;32m      6\u001b[0m \u001b[0mprint\u001b[0m\u001b[1;33m(\u001b[0m\u001b[0mp1\u001b[0m\u001b[1;33m)\u001b[0m\u001b[1;33m\u001b[0m\u001b[1;33m\u001b[0m\u001b[0m\n",
      "\u001b[1;31mTypeError\u001b[0m: __init__() missing 2 required positional arguments: 'fname' and 'lname'"
     ]
    }
   ],
   "source": [
    "#Inheritance\n",
    "\n",
    "class Child(person):\n",
    "    pass\n",
    "l1 = Child()\n",
    "print(p1)"
   ]
  },
  {
   "cell_type": "code",
   "execution_count": 43,
   "metadata": {
    "ExecuteTime": {
     "end_time": "2019-12-27T18:36:30.752580Z",
     "start_time": "2019-12-27T18:36:30.746702Z"
    }
   },
   "outputs": [],
   "source": [
    "class MySubClass:\n",
    "    pass"
   ]
  },
  {
   "cell_type": "code",
   "execution_count": 44,
   "metadata": {
    "ExecuteTime": {
     "end_time": "2019-12-27T18:36:31.449491Z",
     "start_time": "2019-12-27T18:36:31.445575Z"
    }
   },
   "outputs": [],
   "source": [
    "class MySubClass(object):\n",
    "    pass"
   ]
  },
  {
   "cell_type": "code",
   "execution_count": 47,
   "metadata": {
    "ExecuteTime": {
     "end_time": "2019-12-27T18:36:48.117413Z",
     "start_time": "2019-12-27T18:36:48.109578Z"
    }
   },
   "outputs": [
    {
     "name": "stdout",
     "output_type": "stream",
     "text": [
      "Bishal  Saha\n",
      "Harsha  1123\n",
      "Roshan  1124\n"
     ]
    }
   ],
   "source": [
    "class Person:\n",
    "    def __init__(self,fname,lname):\n",
    "        self.fname = fname\n",
    "        self.lname = lname\n",
    "        \n",
    "\n",
    "class Employee(Person):\n",
    "    all_employee = []\n",
    "    def __init__(self,fname,lname,emid):\n",
    "        Person.__init__(self,fname,lname)\n",
    "        self.emid = emid\n",
    "        Employee.all_employee.append(self)\n",
    "\n",
    "        \n",
    "p1 = Person('Bishal','Saha')\n",
    "print(p1.fname,'',p1.lname)\n",
    "e1 = Employee('Harsha','Das',1123)\n",
    "e2 = Employee('Roshan','Sah',1124)\n",
    "print(e1.fname,'',e1.emid)\n",
    "print(e2.fname,'',e2.emid)"
   ]
  },
  {
   "cell_type": "code",
   "execution_count": 48,
   "metadata": {
    "ExecuteTime": {
     "end_time": "2019-12-27T18:36:51.527118Z",
     "start_time": "2019-12-27T18:36:51.521241Z"
    }
   },
   "outputs": [],
   "source": [
    "class EmployeesList(list):\n",
    "    def search(self,name):\n",
    "        matching_employees = []\n",
    "        for employee in self:\n",
    "            if name in employee.fname:\n",
    "                matching_employees.append(employee.fname)\n",
    "        return matching_employees"
   ]
  },
  {
   "cell_type": "code",
   "execution_count": 50,
   "metadata": {
    "ExecuteTime": {
     "end_time": "2019-12-27T18:37:27.295804Z",
     "start_time": "2019-12-27T18:37:27.287004Z"
    }
   },
   "outputs": [
    {
     "name": "stdout",
     "output_type": "stream",
     "text": [
      "['Roshan']\n"
     ]
    }
   ],
   "source": [
    "class Employee(Person):\n",
    "    all_employees = EmployeesList()\n",
    "    def __init__(self,fname,lname,emid):\n",
    "        Person.__init__(self,fname,lname)\n",
    "        self.emid = emid\n",
    "        Employee.all_employees.append(self)\n",
    "\n",
    "e1 = Employee('Bishal','Saha',8)\n",
    "e2 = Employee('Harsha','Das',15)\n",
    "e3 = Employee('Roshan','Sah',17)\n",
    "print(Employee.all_employees.search('R'))"
   ]
  },
  {
   "cell_type": "code",
   "execution_count": 88,
   "metadata": {},
   "outputs": [
    {
     "name": "stdout",
     "output_type": "stream",
     "text": [
      "You get bonus\n",
      "You are not eligible for bonus\n"
     ]
    }
   ],
   "source": [
    "class Employee(Person):\n",
    "    all_employees = EmployeesList()\n",
    "    def __init__(self,fname,lname,emid):\n",
    "        Person.__init__(self,fname,lname)\n",
    "        self.emid = emid\n",
    "        Employee.all_employees.append(self)\n",
    "    def getSalary(self):\n",
    "        return 'You get salary'\n",
    "    def getBonus(self):\n",
    "        return 'You get bonus'\n",
    "class ContractEmployee(Employee):\n",
    "    def getSalary(self):\n",
    "        return 'You will not get salary from the organization'\n",
    "    def getBonus(self):\n",
    "        return 'You are not eligible for bonus'\n",
    "\n",
    "e1 = Employee('Bishal','Saha',8)\n",
    "e2 = ContractEmployee('Harsha','Das',15)\n",
    "print(e1.getBonus())\n",
    "print(e2.getBonus())\n",
    "        "
   ]
  },
  {
   "cell_type": "code",
   "execution_count": null,
   "metadata": {},
   "outputs": [],
   "source": []
  },
  {
   "cell_type": "markdown",
   "metadata": {},
   "source": [
    " <h1>Numpy</h1>"
   ]
  },
  {
   "cell_type": "code",
   "execution_count": 5,
   "metadata": {},
   "outputs": [
    {
     "name": "stdout",
     "output_type": "stream",
     "text": [
      "[[1 2]\n",
      " [3 4]]\n"
     ]
    },
    {
     "data": {
      "text/plain": [
       "numpy.ndarray"
      ]
     },
     "execution_count": 5,
     "metadata": {},
     "output_type": "execute_result"
    }
   ],
   "source": [
    "import numpy as np\n",
    "v = np.array([[1,2],[3,4]])\n",
    "print(v)\n",
    "type(v)"
   ]
  },
  {
   "cell_type": "code",
   "execution_count": 9,
   "metadata": {},
   "outputs": [
    {
     "data": {
      "text/plain": [
       "dtype('int32')"
      ]
     },
     "execution_count": 9,
     "metadata": {},
     "output_type": "execute_result"
    }
   ],
   "source": [
    "np.shape(v)\n",
    "np.diag(v)\n",
    "v.size\n",
    "v.dtype"
   ]
  },
  {
   "cell_type": "code",
   "execution_count": 11,
   "metadata": {},
   "outputs": [
    {
     "name": "stdout",
     "output_type": "stream",
     "text": [
      "[[ 4  6]\n",
      " [24 34]]\n",
      "[[ 1  2]\n",
      " [ 9 28]]\n"
     ]
    }
   ],
   "source": [
    "u = np.array([[1,1],[3,7]])\n",
    "v = np.array([[1,2],[3,4]])\n",
    "print(np.dot(u,v))\n",
    "print(np.multiply(u,v))"
   ]
  },
  {
   "cell_type": "code",
   "execution_count": 15,
   "metadata": {},
   "outputs": [
    {
     "name": "stdout",
     "output_type": "stream",
     "text": [
      "[4 8]\n",
      "[3 7]\n"
     ]
    }
   ],
   "source": [
    "print(np.sum(u,0))\n",
    "print(np.sum(v,1))"
   ]
  },
  {
   "cell_type": "code",
   "execution_count": 22,
   "metadata": {},
   "outputs": [
    {
     "name": "stdout",
     "output_type": "stream",
     "text": [
      "[[1 3]\n",
      " [1 7]]\n"
     ]
    }
   ],
   "source": [
    "print(u.T)"
   ]
  },
  {
   "cell_type": "code",
   "execution_count": 24,
   "metadata": {},
   "outputs": [
    {
     "name": "stdout",
     "output_type": "stream",
     "text": [
      "[[1.         1.41421356]\n",
      " [1.73205081 2.        ]]\n"
     ]
    }
   ],
   "source": [
    "print(np.sqrt(v))"
   ]
  },
  {
   "cell_type": "code",
   "execution_count": 25,
   "metadata": {},
   "outputs": [
    {
     "name": "stdout",
     "output_type": "stream",
     "text": [
      "[[0.33333333 0.66666667]\n",
      " [1.         1.33333333]]\n"
     ]
    }
   ],
   "source": [
    "print(np.divide(v,3))"
   ]
  },
  {
   "cell_type": "code",
   "execution_count": 26,
   "metadata": {},
   "outputs": [
    {
     "name": "stdout",
     "output_type": "stream",
     "text": [
      "[[ 0 -1]\n",
      " [ 0  3]]\n"
     ]
    }
   ],
   "source": [
    "print(np.subtract(u,v))"
   ]
  },
  {
   "cell_type": "code",
   "execution_count": 27,
   "metadata": {},
   "outputs": [
    {
     "name": "stdout",
     "output_type": "stream",
     "text": [
      "[[ 2  3]\n",
      " [ 6 11]]\n"
     ]
    }
   ],
   "source": [
    "print(np.add(v,u))"
   ]
  },
  {
   "cell_type": "markdown",
   "metadata": {},
   "source": [
    "### Wap to remove duplicates in given lists without using set() function"
   ]
  },
  {
   "cell_type": "code",
   "execution_count": 29,
   "metadata": {},
   "outputs": [
    {
     "name": "stdout",
     "output_type": "stream",
     "text": [
      "[1, 2, 1, 1, 4, 5, 7, 3, 4, 5, 1, 1, 7, 8, 10]\n",
      "dict_keys([1, 2, 4, 5, 7, 3, 8, 10])\n"
     ]
    }
   ],
   "source": [
    "def remove_duplicates():\n",
    "    l1 = [1,2,1,1,4,5,7]\n",
    "    l2 = [3,4,5,1,1,7,8,10]\n",
    "    d = {}\n",
    "    print(l1+l2)\n",
    "    d = {e: None for e in l1+l2}\n",
    "    print(d.keys())\n",
    "\n",
    "remove_duplicates()"
   ]
  },
  {
   "cell_type": "code",
   "execution_count": 33,
   "metadata": {},
   "outputs": [
    {
     "name": "stdout",
     "output_type": "stream",
     "text": [
      "dict_keys([5])\n",
      "dict_keys([5, 1])\n"
     ]
    }
   ],
   "source": [
    "# WAP to generate intersection of two lists\n",
    "\n",
    "def intersection():\n",
    "    l1 = [1,34,5,7,1,8,2]\n",
    "    l2 = [3,4,5,1,6,9,0]\n",
    "    l3 = [a for a in l2 if a in l1]\n",
    "    d = {}\n",
    "    for e in l3:\n",
    "        d[e] = None\n",
    "        print(d.keys())\n",
    "\n",
    "intersection()"
   ]
  },
  {
   "cell_type": "code",
   "execution_count": 39,
   "metadata": {},
   "outputs": [
    {
     "ename": "NameError",
     "evalue": "name 'f' is not defined",
     "output_type": "error",
     "traceback": [
      "\u001b[1;31m---------------------------------------------------------------------------\u001b[0m",
      "\u001b[1;31mNameError\u001b[0m                                 Traceback (most recent call last)",
      "\u001b[1;32m<ipython-input-39-ead7c9972e48>\u001b[0m in \u001b[0;36m<module>\u001b[1;34m\u001b[0m\n\u001b[0;32m     12\u001b[0m             \u001b[0mprint\u001b[0m \u001b[1;33m(\u001b[0m\u001b[0mline\u001b[0m\u001b[1;33m)\u001b[0m\u001b[1;33m\u001b[0m\u001b[1;33m\u001b[0m\u001b[0m\n\u001b[0;32m     13\u001b[0m \u001b[1;33m\u001b[0m\u001b[0m\n\u001b[1;32m---> 14\u001b[1;33m \u001b[0mread_chunks\u001b[0m\u001b[1;33m(\u001b[0m\u001b[0mf\u001b[0m\u001b[1;33m)\u001b[0m\u001b[1;33m\u001b[0m\u001b[1;33m\u001b[0m\u001b[0m\n\u001b[0m",
      "\u001b[1;31mNameError\u001b[0m: name 'f' is not defined"
     ]
    }
   ],
   "source": [
    "#WAP to read a big file in chunks in the very efficient way\n",
    "\n",
    "def read_chunks(f, chunk_size=10):\n",
    "    while True:\n",
    "        line = f.read(chunk_size)\n",
    "        if not line:\n",
    "            print (\"no more lines\")\n",
    "            break\n",
    "    yield line\n",
    "    with open(\"/home/calsoft/dev/kky/pkg/fun1.py\") as f:\n",
    "        for line in read_chunks(f):\n",
    "            print (line)\n",
    "\n",
    "read_chunks(f)"
   ]
  },
  {
   "cell_type": "markdown",
   "metadata": {},
   "source": [
    "<h3>Write a Python program to create and display a one-dimensional array-like object containing an array of data using Pandas module</h3>"
   ]
  },
  {
   "cell_type": "code",
   "execution_count": 72,
   "metadata": {
    "ExecuteTime": {
     "end_time": "2019-12-27T19:52:01.124139Z",
     "start_time": "2019-12-27T19:51:59.906566Z"
    }
   },
   "outputs": [
    {
     "name": "stderr",
     "output_type": "stream",
     "text": [
      "C:\\Users\\bisha\\Anaconda3\\lib\\importlib\\_bootstrap.py:219: RuntimeWarning: numpy.ufunc size changed, may indicate binary incompatibility. Expected 192 from C header, got 216 from PyObject\n",
      "  return f(*args, **kwds)\n"
     ]
    },
    {
     "name": "stdout",
     "output_type": "stream",
     "text": [
      "0    1\n",
      "1    2\n",
      "2    3\n",
      "3    4\n",
      "dtype: int64\n"
     ]
    }
   ],
   "source": [
    "import pandas as pd\n",
    "df = pd.Series([1,2,3,4])\n",
    "print(df)"
   ]
  },
  {
   "cell_type": "markdown",
   "metadata": {},
   "source": [
    "<h3>Write a Python program to convert a Panda module Series to Python list and it's type.</h3>"
   ]
  },
  {
   "cell_type": "code",
   "execution_count": 9,
   "metadata": {
    "ExecuteTime": {
     "end_time": "2019-12-21T17:37:29.620399Z",
     "start_time": "2019-12-21T17:37:29.610603Z"
    }
   },
   "outputs": [
    {
     "name": "stdout",
     "output_type": "stream",
     "text": [
      "0    1\n",
      "1    4\n",
      "2    7\n",
      "3    9\n",
      "dtype: int64\n",
      "<class 'pandas.core.series.Series'>\n",
      "COnverting Panda module to Python List\n",
      "[1, 4, 7, 9]\n",
      "<class 'list'>\n"
     ]
    }
   ],
   "source": [
    "v = pd.Series([1,4,7,9])\n",
    "print(v)\n",
    "print(type(v))\n",
    "print(\"COnverting Panda module to Python List\")\n",
    "print(v.tolist())\n",
    "print(type(v.tolist()))"
   ]
  },
  {
   "cell_type": "markdown",
   "metadata": {},
   "source": [
    "<h3>3. Write a Python program to add, subtract, multiple and divide two Pandas Series. Go to the editor\n",
    "Sample Series: [2, 4, 6, 8, 10], [1, 3, 5, 7, 9]</h3>"
   ]
  },
  {
   "cell_type": "code",
   "execution_count": 75,
   "metadata": {
    "ExecuteTime": {
     "end_time": "2019-12-27T19:53:00.548523Z",
     "start_time": "2019-12-27T19:53:00.541667Z"
    }
   },
   "outputs": [
    {
     "name": "stdout",
     "output_type": "stream",
     "text": [
      "0     3\n",
      "1     7\n",
      "2    11\n",
      "3    15\n",
      "4    19\n",
      "dtype: int64\n"
     ]
    }
   ],
   "source": [
    "a = pd.Series([2,4,6,8,10])\n",
    "b = pd.Series([1,3,5,7,9])\n",
    "print(a+b)"
   ]
  },
  {
   "cell_type": "code",
   "execution_count": 9,
   "metadata": {
    "ExecuteTime": {
     "end_time": "2019-12-27T13:02:23.097956Z",
     "start_time": "2019-12-27T13:02:23.091098Z"
    }
   },
   "outputs": [
    {
     "name": "stdout",
     "output_type": "stream",
     "text": [
      "6\n"
     ]
    }
   ],
   "source": [
    "i = 6\n",
    "while True:\n",
    "    if i%0O7 == 0:\n",
    "        break\n",
    "    print(i)\n",
    "    i += 1"
   ]
  },
  {
   "cell_type": "code",
   "execution_count": 10,
   "metadata": {
    "ExecuteTime": {
     "end_time": "2019-12-27T14:30:08.939532Z",
     "start_time": "2019-12-27T14:30:08.931700Z"
    }
   },
   "outputs": [
    {
     "name": "stdout",
     "output_type": "stream",
     "text": [
      "a a a a a a "
     ]
    }
   ],
   "source": [
    "x = \"abcdef\"\n",
    "i = \"a\"\n",
    "while i in x:\n",
    "    x = x[:-1]\n",
    "    print(i, end = \" \")"
   ]
  },
  {
   "cell_type": "code",
   "execution_count": 11,
   "metadata": {
    "ExecuteTime": {
     "end_time": "2019-12-27T15:31:27.003040Z",
     "start_time": "2019-12-27T15:31:26.996188Z"
    }
   },
   "outputs": [
    {
     "name": "stdout",
     "output_type": "stream",
     "text": [
      "None\n",
      "None\n",
      "None\n"
     ]
    }
   ],
   "source": [
    "d = {0, 1, 2}\n",
    "for x in d:\n",
    "    print(d.add(x))"
   ]
  },
  {
   "cell_type": "code",
   "execution_count": 14,
   "metadata": {
    "ExecuteTime": {
     "end_time": "2019-12-27T15:35:15.006006Z",
     "start_time": "2019-12-27T15:35:15.001109Z"
    }
   },
   "outputs": [
    {
     "name": "stdout",
     "output_type": "stream",
     "text": [
      "4\n",
      "3\n",
      "2\n",
      "1\n"
     ]
    }
   ],
   "source": [
    "for i in [1, 2, 3, 4][::-1]:\n",
    "    print (i)"
   ]
  },
  {
   "cell_type": "code",
   "execution_count": 16,
   "metadata": {
    "ExecuteTime": {
     "end_time": "2019-12-27T15:36:35.330741Z",
     "start_time": "2019-12-27T15:36:35.325844Z"
    }
   },
   "outputs": [
    {
     "name": "stdout",
     "output_type": "stream",
     "text": [
      "l\n",
      "a\n",
      "h\n",
      "s\n",
      "i\n",
      "B\n"
     ]
    }
   ],
   "source": [
    "for i in ''.join(reversed(list('Bishal'))):\n",
    "    print (i)"
   ]
  },
  {
   "cell_type": "code",
   "execution_count": 20,
   "metadata": {
    "ExecuteTime": {
     "end_time": "2019-12-27T15:45:44.737569Z",
     "start_time": "2019-12-27T15:45:44.731691Z"
    }
   },
   "outputs": [
    {
     "name": "stdout",
     "output_type": "stream",
     "text": [
      "0\n",
      "1\n",
      "2\n",
      "3\n",
      "4\n"
     ]
    }
   ],
   "source": [
    "for i in range(10):\n",
    "    if i == 5:\n",
    "        break\n",
    "    else:\n",
    "        print(i)\n",
    "else:\n",
    "    print(\"Here\")"
   ]
  },
  {
   "cell_type": "code",
   "execution_count": 25,
   "metadata": {
    "ExecuteTime": {
     "end_time": "2019-12-27T15:52:21.594791Z",
     "start_time": "2019-12-27T15:52:21.586957Z"
    }
   },
   "outputs": [
    {
     "name": "stdout",
     "output_type": "stream",
     "text": [
      "m, y,  , n, a, m, e,  , i, s,  , x, "
     ]
    }
   ],
   "source": [
    "string = \"my name is x\"\n",
    "for i in string:\n",
    "    print (i, end=\", \")"
   ]
  },
  {
   "cell_type": "code",
   "execution_count": 31,
   "metadata": {
    "ExecuteTime": {
     "end_time": "2019-12-27T16:10:40.920227Z",
     "start_time": "2019-12-27T16:10:40.913373Z"
    }
   },
   "outputs": [
    {
     "ename": "SyntaxError",
     "evalue": "invalid syntax (<ipython-input-31-5320afd97d10>, line 3)",
     "output_type": "error",
     "traceback": [
      "\u001b[1;36m  File \u001b[1;32m\"<ipython-input-31-5320afd97d10>\"\u001b[1;36m, line \u001b[1;32m3\u001b[0m\n\u001b[1;33m    for i not in a:\u001b[0m\n\u001b[1;37m            ^\u001b[0m\n\u001b[1;31mSyntaxError\u001b[0m\u001b[1;31m:\u001b[0m invalid syntax\n"
     ]
    }
   ],
   "source": [
    "a = [0, 1, 2, 3]\n",
    "i = -2\n",
    "for i not in a:\n",
    "    print(i)\n",
    "    i += 1"
   ]
  },
  {
   "cell_type": "code",
   "execution_count": 62,
   "metadata": {
    "ExecuteTime": {
     "end_time": "2019-12-27T19:40:49.748800Z",
     "start_time": "2019-12-27T19:40:49.570521Z"
    }
   },
   "outputs": [
    {
     "data": {
      "image/png": "[encoded data removed]",
      "text/plain": [
       "<Figure size 432x288 with 1 Axes>"
      ]
     },
     "metadata": {
      "needs_background": "light"
     },
     "output_type": "display_data"
    }
   ],
   "source": [
    "import matplotlib.pyplot as plt\n",
    "values = [1,2,3,3,3,4,5,5,5,6,6,6,6,6,7]\n",
    "plt.hist(values, color = \"red\")\n",
    "plt.xlabel(\"random values\")\n",
    "plt.title(\"A histogram\")\n",
    "plt.show()"
   ]
  },
  {
   "cell_type": "code",
   "execution_count": 76,
   "metadata": {
    "ExecuteTime": {
     "end_time": "2019-12-27T20:06:27.427793Z",
     "start_time": "2019-12-27T20:06:27.420927Z"
    }
   },
   "outputs": [
    {
     "data": {
      "text/plain": [
       "array([ 0,  0,  0, -1])"
      ]
     },
     "execution_count": 76,
     "metadata": {},
     "output_type": "execute_result"
    }
   ],
   "source": [
    "from numpy import array as ar\n",
    "A = ar([1,2,3,4])\n",
    "B = ar([1,2,3,5])\n",
    "A - B"
   ]
  },
  {
   "cell_type": "code",
   "execution_count": 79,
   "metadata": {
    "ExecuteTime": {
     "end_time": "2019-12-27T20:07:13.007587Z",
     "start_time": "2019-12-27T20:07:13.001725Z"
    }
   },
   "outputs": [
    {
     "ename": "SyntaxError",
     "evalue": "can't delete literal (<ipython-input-79-42dc912b9f52>, line 2)",
     "output_type": "error",
     "traceback": [
      "\u001b[1;36m  File \u001b[1;32m\"<ipython-input-79-42dc912b9f52>\"\u001b[1;36m, line \u001b[1;32m2\u001b[0m\n\u001b[1;33m    del(1)\u001b[0m\n\u001b[1;37m      ^\u001b[0m\n\u001b[1;31mSyntaxError\u001b[0m\u001b[1;31m:\u001b[0m can't delete literal\n"
     ]
    }
   ],
   "source": [
    "L = [1,2,3,1]\n",
    "del(1)"
   ]
  },
  {
   "cell_type": "code",
   "execution_count": 82,
   "metadata": {
    "ExecuteTime": {
     "end_time": "2019-12-27T20:22:29.752901Z",
     "start_time": "2019-12-27T20:22:29.746044Z"
    }
   },
   "outputs": [
    {
     "name": "stdout",
     "output_type": "stream",
     "text": [
      "Old list: [[1, 1, 1], [2, 2, 2], [3, 3, 3], [4, 4, 4]]\n",
      "New list: [[1, 1, 1], [2, 2, 2], [3, 3, 3]]\n"
     ]
    }
   ],
   "source": [
    "import copy\n",
    "\n",
    "old_list = [[1, 1, 1], [2, 2, 2], [3, 3, 3]]\n",
    "new_list = copy.copy(old_list)\n",
    "\n",
    "old_list.append([4, 4, 4])\n",
    "\n",
    "print(\"Old list:\", old_list)\n",
    "print(\"New list:\", new_list)"
   ]
  },
  {
   "cell_type": "code",
   "execution_count": 98,
   "metadata": {
    "ExecuteTime": {
     "end_time": "2019-12-27T20:39:35.611328Z",
     "start_time": "2019-12-27T20:39:35.604472Z"
    }
   },
   "outputs": [
    {
     "name": "stdout",
     "output_type": "stream",
     "text": [
      "2869304367816\n",
      "2869334527816\n"
     ]
    }
   ],
   "source": [
    "old_list = [[1, 1, 1], [2, 2, 2], [3, 3, 3]]\n",
    "new_list = copy.copy(old_list)\n",
    "\n",
    "old_list[1][1] = 'AA'\n",
    "\n",
    "print(id(old_list))\n",
    "print(id(new_list))"
   ]
  },
  {
   "cell_type": "code",
   "execution_count": 99,
   "metadata": {
    "ExecuteTime": {
     "end_time": "2019-12-27T20:40:14.736567Z",
     "start_time": "2019-12-27T20:40:14.728745Z"
    }
   },
   "outputs": [
    {
     "name": "stdout",
     "output_type": "stream",
     "text": [
      "Old list: [[1, 1, 1], ['BB', 2, 2], [3, 3, 3]]\n",
      "New list: [[1, 1, 1], [2, 2, 2], [3, 3, 3]]\n",
      "2869333264008\n",
      "2869334135176\n"
     ]
    }
   ],
   "source": [
    "old_list = [[1, 1, 1], [2, 2, 2], [3, 3, 3]]\n",
    "new_list = copy.deepcopy(old_list)\n",
    "\n",
    "old_list[1][0] = 'BB'\n",
    "\n",
    "print(\"Old list:\", old_list)\n",
    "print(\"New list:\", new_list)\n",
    "print(id(old_list))\n",
    "print(id(new_list))"
   ]
  },
  {
   "cell_type": "code",
   "execution_count": 86,
   "metadata": {
    "ExecuteTime": {
     "end_time": "2019-12-27T20:27:14.740424Z",
     "start_time": "2019-12-27T20:27:14.717907Z"
    }
   },
   "outputs": [
    {
     "data": {
      "text/plain": [
       "array([[-0.2,  0.4],\n",
       "       [ 0.6, -0.2]])"
      ]
     },
     "execution_count": 86,
     "metadata": {},
     "output_type": "execute_result"
    }
   ],
   "source": [
    "import numpy as np\n",
    "np.linalg.inv([[1,2],[3,1]])"
   ]
  },
  {
   "cell_type": "code",
   "execution_count": 89,
   "metadata": {
    "ExecuteTime": {
     "end_time": "2019-12-27T20:28:28.459470Z",
     "start_time": "2019-12-27T20:28:28.453608Z"
    }
   },
   "outputs": [
    {
     "data": {
      "text/plain": [
       "2.9999999999999996"
      ]
     },
     "execution_count": 89,
     "metadata": {},
     "output_type": "execute_result"
    }
   ],
   "source": [
    "np.linalg.det([[5,2],[1,1]])"
   ]
  },
  {
   "cell_type": "code",
   "execution_count": 92,
   "metadata": {
    "ExecuteTime": {
     "end_time": "2019-12-27T20:30:35.074672Z",
     "start_time": "2019-12-27T20:30:35.068796Z"
    }
   },
   "outputs": [
    {
     "name": "stdout",
     "output_type": "stream",
     "text": [
      "Help on function solve in module numpy.linalg:\n",
      "\n",
      "solve(a, b)\n",
      "    Solve a linear matrix equation, or system of linear scalar equations.\n",
      "    \n",
      "    Computes the \"exact\" solution, `x`, of the well-determined, i.e., full\n",
      "    rank, linear matrix equation `ax = b`.\n",
      "    \n",
      "    Parameters\n",
      "    ----------\n",
      "    a : (..., M, M) array_like\n",
      "        Coefficient matrix.\n",
      "    b : {(..., M,), (..., M, K)}, array_like\n",
      "        Ordinate or \"dependent variable\" values.\n",
      "    \n",
      "    Returns\n",
      "    -------\n",
      "    x : {(..., M,), (..., M, K)} ndarray\n",
      "        Solution to the system a x = b.  Returned shape is identical to `b`.\n",
      "    \n",
      "    Raises\n",
      "    ------\n",
      "    LinAlgError\n",
      "        If `a` is singular or not square.\n",
      "    \n",
      "    Notes\n",
      "    -----\n",
      "    \n",
      "    .. versionadded:: 1.8.0\n",
      "    \n",
      "    Broadcasting rules apply, see the `numpy.linalg` documentation for\n",
      "    details.\n",
      "    \n",
      "    The solutions are computed using LAPACK routine _gesv\n",
      "    \n",
      "    `a` must be square and of full-rank, i.e., all rows (or, equivalently,\n",
      "    columns) must be linearly independent; if either is not true, use\n",
      "    `lstsq` for the least-squares best \"solution\" of the\n",
      "    system/equation.\n",
      "    \n",
      "    References\n",
      "    ----------\n",
      "    .. [1] G. Strang, *Linear Algebra and Its Applications*, 2nd Ed., Orlando,\n",
      "           FL, Academic Press, Inc., 1980, pg. 22.\n",
      "    \n",
      "    Examples\n",
      "    --------\n",
      "    Solve the system of equations ``3 * x0 + x1 = 9`` and ``x0 + 2 * x1 = 8``:\n",
      "    \n",
      "    >>> a = np.array([[3,1], [1,2]])\n",
      "    >>> b = np.array([9,8])\n",
      "    >>> x = np.linalg.solve(a, b)\n",
      "    >>> x\n",
      "    array([ 2.,  3.])\n",
      "    \n",
      "    Check that the solution is correct:\n",
      "    \n",
      "    >>> np.allclose(np.dot(a, x), b)\n",
      "    True\n",
      "\n"
     ]
    }
   ],
   "source": [
    "help(np.linalg.solve)"
   ]
  },
  {
   "cell_type": "code",
   "execution_count": 95,
   "metadata": {
    "ExecuteTime": {
     "end_time": "2019-12-27T20:33:41.433495Z",
     "start_time": "2019-12-27T20:33:41.425659Z"
    }
   },
   "outputs": [
    {
     "data": {
      "text/plain": [
       "array([2., 3.])"
      ]
     },
     "execution_count": 95,
     "metadata": {},
     "output_type": "execute_result"
    }
   ],
   "source": [
    " #Solve the system of equations ``3 * x0 + x1 = 9`` and ``x0 + 2 * x1 = 8``:\n",
    "    \n",
    "a = np.array([[3,1], [1,2]])\n",
    "b = np.array([9,8])\n",
    "x = np.linalg.solve(a, b)\n",
    "x\n",
    "\n",
    "\n"
   ]
  },
  {
   "cell_type": "code",
   "execution_count": null,
   "metadata": {},
   "outputs": [],
   "source": [
    "np.allclose(np.dot(a, x), b)"
   ]
  },
  {
   "cell_type": "code",
   "execution_count": 102,
   "metadata": {
    "ExecuteTime": {
     "end_time": "2019-12-27T21:30:00.118779Z",
     "start_time": "2019-12-27T21:30:00.111923Z"
    }
   },
   "outputs": [
    {
     "name": "stdout",
     "output_type": "stream",
     "text": [
      "[1, '3', 5, 7, 9]\n"
     ]
    }
   ],
   "source": [
    "#Extract the odd numbers from this below list?\n",
    "L = [1,2,\"3\",4,5,\"India\",6,7,8,9]\n",
    "odd = [o for o in [x for x in L if str(x).isdigit()] if int(o) % 2 != 0]\n",
    "print (odd)"
   ]
  },
  {
   "cell_type": "code",
   "execution_count": null,
   "metadata": {},
   "outputs": [],
   "source": [
    "#how to change/swap keys and values in dictionary?\n",
    "my_dict = {2: '4', 3: '9', 4: '16', 5: '25', 6: '36', 7: '49', 8: '64', 9: '81'}\n",
    "print {j: i for i, j in my_dict.iteritems()}"
   ]
  },
  {
   "cell_type": "code",
   "execution_count": null,
   "metadata": {},
   "outputs": [],
   "source": [
    "def bub(data):\n",
    "n = len(data)\n",
    "for i in range(n-1):\n",
    "    for j in range(n-1):\n",
    "        if data[j] > data[j+1]:\n",
    "            tmp = data[j]\n",
    "            data[j]= data[j+1]\n",
    "            data[j+1] = tmp\n",
    "    all_sorted = True\n",
    "        if all_sorted == False:\n",
    "        break\n",
    "    print data\n",
    "    return data\n",
    "    data = [5,1,4,2,8]\n",
    "    bub(data)"
   ]
  },
  {
   "cell_type": "code",
   "execution_count": 104,
   "metadata": {
    "ExecuteTime": {
     "end_time": "2019-12-27T21:41:26.719206Z",
     "start_time": "2019-12-27T21:41:26.712366Z"
    }
   },
   "outputs": [
    {
     "data": {
      "text/plain": [
       "tuple"
      ]
     },
     "execution_count": 104,
     "metadata": {},
     "output_type": "execute_result"
    }
   ],
   "source": [
    "a = \"Hello\",\"World\"\n",
    "b = 1,2\n",
    "type(a)\n",
    "type(b)"
   ]
  },
  {
   "cell_type": "code",
   "execution_count": 3,
   "metadata": {
    "ExecuteTime": {
     "end_time": "2019-12-28T03:30:35.784193Z",
     "start_time": "2019-12-28T03:30:35.774398Z"
    }
   },
   "outputs": [
    {
     "name": "stdout",
     "output_type": "stream",
     "text": [
      "[1913, 942, 182, 1551, 683, 320, 167, 791, 12, 124, 1652, 1306, 1403, 1570, 996, 625, 1686, 775, 314, 515, 1670, 623, 1495, 374, 137, 1911, 1690, 1743, 196, 121, 1167, 965, 1402, 623, 611, 758, 1376, 1490, 865, 1680, 1691, 638, 1801, 203, 596, 302, 1260, 1077, 756, 83, 1108, 155, 1867, 1246, 1866, 790, 1587, 210, 1972, 7, 906, 1194, 1321, 862, 929, 175, 957, 304, 854, 1215, 363, 1819, 684, 1470, 1959, 480, 497, 1151, 1446, 1848, 1741, 703, 1702, 123, 760, 1393, 314, 325, 601, 202, 1988, 1679, 1869, 1127, 17, 1683, 38, 1723, 1176, 663]\n"
     ]
    }
   ],
   "source": [
    "import numpy as np\n",
    "vals100=[np.random.randint(2000) for n in range(100)]\n",
    "print(vals100)"
   ]
  }
 ],
 "metadata": {
  "kernelspec": {
   "display_name": "Python 3",
   "language": "python",
   "name": "python3"
  },
  "language_info": {
   "codemirror_mode": {
    "name": "ipython",
    "version": 3
   },
   "file_extension": ".py",
   "mimetype": "text/x-python",
   "name": "python",
   "nbconvert_exporter": "python",
   "pygments_lexer": "ipython3",
   "version": "3.7.3"
  },
  "toc": {
   "base_numbering": 1,
   "nav_menu": {},
   "number_sections": true,
   "sideBar": true,
   "skip_h1_title": false,
   "title_cell": "Table of Contents",
   "title_sidebar": "Contents",
   "toc_cell": false,
   "toc_position": {},
   "toc_section_display": true,
   "toc_window_display": false
  }
 },
 "nbformat": 4,
 "nbformat_minor": 2
}
