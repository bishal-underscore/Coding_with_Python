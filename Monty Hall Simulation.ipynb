{
 "cells": [
  {
   "cell_type": "code",
   "execution_count": 2,
   "metadata": {},
   "outputs": [
    {
     "name": "stdout",
     "output_type": "stream",
     "text": [
      "0.6795\n",
      "0.3205\n"
     ]
    }
   ],
   "source": [
    "#Monty Hall Simulation\n",
    "\n",
    "import random as rd\n",
    "win = 0\n",
    "for i in range(10000):\n",
    "    door = [\"1\",\"2\",\"3\"]\n",
    "    car_door = rd.choice(door)\n",
    "    chosen_door = rd.choice(door)\n",
    "    if chosen_door == car_door:\n",
    "        monty_door = rd.choice(list(set(door)-set(car_door)))\n",
    "    else: \n",
    "        monty_door = rd.choice(list(set(door)-set(car_door)-set(chosen_door)))   \n",
    "    another_door = set(door) - set(chosen_door) - set(monty_door)\n",
    "    if set(another_door) == set(car_door):\n",
    "        win += 1\n",
    "\n",
    "prob_win = win/10000\n",
    "prob_lose = 1 - prob_win\n",
    "print(prob_win)\n",
    "print(prob_lose)"
   ]
  },
  {
   "cell_type": "code",
   "execution_count": null,
   "metadata": {},
   "outputs": [],
   "source": []
  }
 ],
 "metadata": {
  "kernelspec": {
   "display_name": "Python 3",
   "language": "python",
   "name": "python3"
  },
  "language_info": {
   "codemirror_mode": {
    "name": "ipython",
    "version": 3
   },
   "file_extension": ".py",
   "mimetype": "text/x-python",
   "name": "python",
   "nbconvert_exporter": "python",
   "pygments_lexer": "ipython3",
   "version": "3.7.3"
  }
 },
 "nbformat": 4,
 "nbformat_minor": 2
}
